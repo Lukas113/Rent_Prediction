{
 "cells": [
  {
   "cell_type": "markdown",
   "metadata": {},
   "source": [
    "# Neural Network"
   ]
  },
  {
   "cell_type": "markdown",
   "metadata": {},
   "source": [
    "$\\sigma=$ activation function e.g. $\\displaystyle=\\frac{1}{1+e^{-x}}$\n",
    "\n",
    "$W=$ weight matrix\n",
    "\n",
    "$I=$ input matrix\n",
    "\n",
    "$\\hat{y}=W_3 \\sigma(W_2 \\sigma(W_1 I)))$ --> etc..\n",
    "\n",
    "$l(y,\\hat{y})=$ loss function $\\displaystyle=\\sum_{i=1}^{n}(y_i-\\hat{y}_i)^2$\n",
    "\n",
    "Multivariable chain rule:\n",
    "$\\displaystyle\\frac{\\partial f(x,u_1,...,u_n)}{\\partial x}=\\frac{\\partial f}{\\partial x}+\\frac{\\partial f}{\\partial u_1}\\frac{\\partial u_1}{\\partial x}+\\frac{\\partial f}{\\partial u_2}\\frac{\\partial u_2}{\\partial x}+...+\\frac{\\partial f}{\\partial u_n}\\frac{\\partial u_n}{\\partial x}=\\frac{\\partial f}{\\partial x}+\\sum_{i=1}^{n}\\frac{\\partial f}{\\partial u_i}\\frac{\\partial u_i}{\\partial x}$\n",
    "\n",
    "$x$ can be written as $x=u(n+1)$. Therefore, the formula is: $\\displaystyle\\frac{\\partial f(u_1,...,u_{n+1})}{\\partial x}=\\sum_{i=1}^{n+1}\\frac{\\partial f}{\\partial u_i}\\frac{\\partial u_i}{\\partial x}$"
   ]
  },
  {
   "cell_type": "code",
   "execution_count": 1,
   "metadata": {},
   "outputs": [
    {
     "data": {
      "text/html": [
       "<div>\n",
       "<style scoped>\n",
       "    .dataframe tbody tr th:only-of-type {\n",
       "        vertical-align: middle;\n",
       "    }\n",
       "\n",
       "    .dataframe tbody tr th {\n",
       "        vertical-align: top;\n",
       "    }\n",
       "\n",
       "    .dataframe thead th {\n",
       "        text-align: right;\n",
       "    }\n",
       "</style>\n",
       "<table border=\"1\" class=\"dataframe\">\n",
       "  <thead>\n",
       "    <tr style=\"text-align: right;\">\n",
       "      <th></th>\n",
       "      <th>col1</th>\n",
       "      <th>col2</th>\n",
       "    </tr>\n",
       "  </thead>\n",
       "  <tbody>\n",
       "    <tr>\n",
       "      <th>0</th>\n",
       "      <td>1</td>\n",
       "      <td>4</td>\n",
       "    </tr>\n",
       "    <tr>\n",
       "      <th>1</th>\n",
       "      <td>2</td>\n",
       "      <td>5</td>\n",
       "    </tr>\n",
       "    <tr>\n",
       "      <th>2</th>\n",
       "      <td>3</td>\n",
       "      <td>6</td>\n",
       "    </tr>\n",
       "  </tbody>\n",
       "</table>\n",
       "</div>"
      ],
      "text/plain": [
       "   col1  col2\n",
       "0     1     4\n",
       "1     2     5\n",
       "2     3     6"
      ]
     },
     "execution_count": 1,
     "metadata": {},
     "output_type": "execute_result"
    }
   ],
   "source": [
    "import numpy as np\n",
    "import sympy as sp\n",
    "import pandas as pd\n",
    "n_lag = 4\n",
    "n_out = 3\n",
    "\n",
    "hidden_layers = np.array([np.ones(x+1) for x in (10, 4)])\n",
    "\n",
    "weights = np.random.rand(2,n_lag) #1. ziellänge, 2. input_vec\n",
    "\n",
    "d = {'col1': [1, 2, 3], 'col2': [4, 5, 6]}\n",
    "X_1 = pd.DataFrame(data=d)\n",
    "d_y = {'col_y': [9, 10, 11]}\n",
    "y_1 = pd.DataFrame(data=d_y)\n",
    "X_1\n",
    "\n",
    "\n",
    "#n_lag = number of neurons of previous layer\n",
    "#n_out = number of neurons of output layer"
   ]
  },
  {
   "cell_type": "code",
   "execution_count": 2,
   "metadata": {},
   "outputs": [
    {
     "data": {
      "text/plain": [
       "[array([[ 9],\n",
       "        [10],\n",
       "        [11]], dtype=int64), array([[ 9],\n",
       "        [10],\n",
       "        [11]], dtype=int64)]"
      ]
     },
     "execution_count": 2,
     "metadata": {},
     "output_type": "execute_result"
    }
   ],
   "source": [
    "s = [y_1.values]\n",
    "s.append(y_1.values)\n",
    "s"
   ]
  },
  {
   "cell_type": "code",
   "execution_count": 3,
   "metadata": {},
   "outputs": [
    {
     "data": {
      "text/plain": [
       "array([[2, 3, 4],\n",
       "       [5, 6, 7]])"
      ]
     },
     "execution_count": 3,
     "metadata": {},
     "output_type": "execute_result"
    }
   ],
   "source": [
    "x = sp.Symbol('x')\n",
    "matrix = np.array([[2, 3, 4], [5, 6, 7]])\n",
    "vec_m = np.array([[3, 3, 3], [2, 2, 2]])\n",
    "\n",
    "expr = x * 3\n",
    "#expr.subs(x, 2)\n",
    "matrix"
   ]
  },
  {
   "cell_type": "code",
   "execution_count": 4,
   "metadata": {},
   "outputs": [
    {
     "data": {
      "text/plain": [
       "[[6, 9, 12], [15, 18, 21]]"
      ]
     },
     "execution_count": 4,
     "metadata": {},
     "output_type": "execute_result"
    }
   ],
   "source": [
    "matrix_2 = [[expr.subs(x, value) for value in row] for row in matrix]\n",
    "matrix_2"
   ]
  },
  {
   "cell_type": "code",
   "execution_count": 5,
   "metadata": {},
   "outputs": [
    {
     "data": {
      "text/plain": [
       "array([[3, 3, 3],\n",
       "       [2, 2, 2]])"
      ]
     },
     "execution_count": 5,
     "metadata": {},
     "output_type": "execute_result"
    }
   ],
   "source": [
    "vec_m"
   ]
  },
  {
   "cell_type": "code",
   "execution_count": 6,
   "metadata": {},
   "outputs": [
    {
     "data": {
      "text/plain": [
       "array([[ 3,  2],\n",
       "       [ 3,  2],\n",
       "       [ 3,  2],\n",
       "       [ 8,  4],\n",
       "       [12, 11]])"
      ]
     },
     "execution_count": 6,
     "metadata": {},
     "output_type": "execute_result"
    }
   ],
   "source": [
    "#vec_m = np.reshape(vec_m, (-1, 1))\n",
    "vec_new = vec_m.T\n",
    "vec_new = np.insert(vec_new, vec_new.shape[0], np.array([[8, 4], [12, 11]]), axis=0)\n",
    "vec_new"
   ]
  },
  {
   "cell_type": "code",
   "execution_count": 7,
   "metadata": {},
   "outputs": [
    {
     "data": {
      "text/plain": [
       "array([[1, 3],\n",
       "       [2, 4]], dtype=int64)"
      ]
     },
     "execution_count": 7,
     "metadata": {},
     "output_type": "execute_result"
    }
   ],
   "source": [
    "a = pd.DataFrame({\"A\": [1, 2], \"B\": [3, 4]}).to_numpy()\n",
    "a"
   ]
  },
  {
   "cell_type": "code",
   "execution_count": null,
   "metadata": {},
   "outputs": [],
   "source": []
  }
 ],
 "metadata": {
  "kernelspec": {
   "display_name": "Python 3",
   "language": "python",
   "name": "python3"
  },
  "language_info": {
   "codemirror_mode": {
    "name": "ipython",
    "version": 3
   },
   "file_extension": ".py",
   "mimetype": "text/x-python",
   "name": "python",
   "nbconvert_exporter": "python",
   "pygments_lexer": "ipython3",
   "version": "3.7.3"
  }
 },
 "nbformat": 4,
 "nbformat_minor": 2
}
