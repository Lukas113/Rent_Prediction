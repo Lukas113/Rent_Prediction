{
 "cells": [
  {
   "cell_type": "markdown",
   "metadata": {},
   "source": [
    "# Vacancy"
   ]
  },
  {
   "cell_type": "code",
   "execution_count": null,
   "metadata": {},
   "outputs": [],
   "source": [
    "import requests, csv, io, pandas as pd, numpy as np\n",
    "import pandas_profiling\n",
    "from requests.auth import HTTPBasicAuth\n",
    "from datetime import datetime"
   ]
  },
  {
   "cell_type": "code",
   "execution_count": null,
   "metadata": {},
   "outputs": [],
   "source": [
    "url = 'https://ethz-mock-up.private-cloud.ch/prod/sensordata/csvexport/all/0/'\n",
    "response = requests.get(url)\n",
    "if response.status_code == 401:\n",
    "    response = requests.get(url, auth = HTTPBasicAuth('arch', 'mock-up395z9!'))"
   ]
  },
  {
   "cell_type": "code",
   "execution_count": null,
   "metadata": {},
   "outputs": [],
   "source": [
    "data = response.content.decode('utf-8')\n",
    "df = pd.read_csv(io.StringIO(data), delimiter = ';')\n",
    "df.iloc[:,-1] = df.iloc[:,-1].str.slice(start = 2, stop = -1) #removes =\" at the beginning and \" at the end of the Timestamp\n",
    "df.iloc[:,-1] = pd.to_datetime(df.iloc[:,-1]) #convert dtype str to datetime64\n",
    "df"
   ]
  },
  {
   "cell_type": "code",
   "execution_count": null,
   "metadata": {},
   "outputs": [],
   "source": [
    "df.profile_report()"
   ]
  }
 ],
 "metadata": {
  "kernelspec": {
   "display_name": "Python 3",
   "language": "python",
   "name": "python3"
  },
  "language_info": {
   "codemirror_mode": {
    "name": "ipython",
    "version": 3
   },
   "file_extension": ".py",
   "mimetype": "text/x-python",
   "name": "python",
   "nbconvert_exporter": "python",
   "pygments_lexer": "ipython3",
   "version": "3.7.6"
  }
 },
 "nbformat": 4,
 "nbformat_minor": 4
}
