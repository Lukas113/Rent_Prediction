{
 "cells": [
  {
   "cell_type": "markdown",
   "metadata": {},
   "source": [
    "# Linear Regression"
   ]
  },
  {
   "cell_type": "code",
   "execution_count": 1,
   "metadata": {},
   "outputs": [],
   "source": [
    "import pandas as pd\n",
    "import numpy as np\n",
    "import matplotlib.pyplot as plt\n",
    "import os\n",
    "import pickle\n",
    "import scipy.sparse\n",
    "from scipy.spatial.distance import cdist\n",
    "from sklearn.linear_model import LinearRegression\n",
    "from sklearn.preprocessing import OneHotEncoder\n",
    "from sklearn.model_selection import train_test_split\n",
    "from pandas.api.types import is_numeric_dtype\n",
    "from datetime import datetime"
   ]
  },
  {
   "cell_type": "code",
   "execution_count": 2,
   "metadata": {},
   "outputs": [],
   "source": [
    "na = '<NA>'\n",
    "\n",
    "df = pd.read_csv(r'../data_file/selected_data.csv')\n",
    "df = df.replace(na, np.nan).drop(columns = [df.columns[0]])\n",
    "\n",
    "obj_type, rooms, surface, zip_code_2_digits, zip_code_3_digits, canton, year_built, year_renovated, distance_to_station, price_square_metres, price = df.columns"
   ]
  },
  {
   "cell_type": "markdown",
   "metadata": {},
   "source": [
    "#### Helper Functions"
   ]
  },
  {
   "cell_type": "code",
   "execution_count": 3,
   "metadata": {},
   "outputs": [],
   "source": [
    "def frame_to_numeric(frame):\n",
    "    \"\"\"transforms every value of a data frame to numeric if possible\"\"\"\n",
    "    for column in frame.columns:\n",
    "        try:\n",
    "            frame.loc[:, column] = pd.to_numeric(frame.loc[:, column])\n",
    "        except:\n",
    "            continue #nothing toDo here\n",
    "    return frame\n",
    "\n",
    "df = frame_to_numeric(df)"
   ]
  },
  {
   "cell_type": "code",
   "execution_count": 4,
   "metadata": {},
   "outputs": [],
   "source": [
    "def rooms_surface_mean(df):\n",
    "    df = frame_to_numeric(df.loc[:, [rooms, surface]].dropna())\n",
    "    return df.groupby(rooms).mean()\n",
    "\n",
    "def add_rooms(row, df_rooms_mean):\n",
    "    return df_rooms_mean.loc[row[rooms]]\n",
    "\n",
    "def add_nearest_rooms_by_surface(df):\n",
    "    \"\"\"completes the dataframe rooms by the nearest neighbour based on the surface mean distance\n",
    "    and the surface of the missing rooms objects\"\"\"\n",
    "    df = df.reset_index(drop = True)\n",
    "    df_rooms_mean = rooms_surface_mean(df)\n",
    "    df_rooms_missing = df[df.loc[:, rooms].isna()].loc[:, [surface]]\n",
    "    dist = cdist(df_rooms_missing, df_rooms_mean) #computes the distance between each pair of surface\n",
    "    idx = np.argsort(dist) #gets sorted index (most left = lowest distance index)\n",
    "    rooms_class = idx[:,0] #gets the room class (index)\n",
    "    df_rooms_missing.loc[:, rooms] = rooms_class\n",
    "    df_rooms_mean = df_rooms_mean.reset_index()\n",
    "    df_rooms_missing.loc[:, rooms] = df_rooms_missing.apply(lambda row: add_rooms(row, df_rooms_mean), axis = 1)\n",
    "    df.loc[df_rooms_missing.index, rooms] = df_rooms_missing.loc[:, rooms] #appends the missing rooms to the real data-frame\n",
    "    return df"
   ]
  },
  {
   "cell_type": "code",
   "execution_count": 5,
   "metadata": {},
   "outputs": [],
   "source": [
    "def add_surface(row, df_rooms_mean):\n",
    "    return df_rooms_mean.loc[row[surface]]\n",
    "\n",
    "def add_surface_mean_by_nearest_rooms(df):\n",
    "    \"\"\"completes the dataframe surface by the nearest neighbour surface mean based on the room distance\n",
    "    of the missing surface objects\"\"\"\n",
    "    df = df.reset_index(drop = True)\n",
    "    df_rooms_mean = rooms_surface_mean(df).reset_index()\n",
    "    df_surface_missing = df[df.loc[:, surface].isna()].loc[:, [rooms]]\n",
    "    dist = cdist(df_surface_missing, df_rooms_mean.loc[:, [rooms]]) #computes the distance between each pair of rooms\n",
    "    idx = np.argsort(dist) #gets sorted index (most left = lowest distance index)\n",
    "    surface_class = idx[:,0] #gets the surface class (index)\n",
    "    df_surface_missing.loc[:, surface] = surface_class\n",
    "    df_surface_missing.loc[:, surface] = df_surface_missing.apply(lambda row: add_surface(row, df_rooms_mean), axis = 1)\n",
    "    df.loc[df_surface_missing.index, surface] = df_surface_missing.loc[:, surface]\n",
    "    return df"
   ]
  },
  {
   "cell_type": "code",
   "execution_count": 6,
   "metadata": {},
   "outputs": [],
   "source": [
    "def handle_missing_numeric_feature(df, feature, na):\n",
    "    \"\"\"this function completes the missing vlaues of a data-frame with the median of the given numeric feature\n",
    "    it adds a new column `feature`+'_'+`na` at the end of the feature index,\n",
    "    which is going to be '1' if the value of the data object is missing and '0' otherwise \n",
    "    \"\"\"\n",
    "    df_copy = df.copy()\n",
    "    na_index = pd.Index(df_copy.columns).get_loc(feature) + 1\n",
    "    column = df_copy.loc[:, feature]\n",
    "    column = column.replace(np.nan, na, regex = True)\n",
    "    artificial_column = [1 if x == na else 0 for x in column] #comprehensions\n",
    "    df.insert(na_index, feature+'_'+na, artificial_column)\n",
    "    \n",
    "    na_indexes = column[column == na].index\n",
    "    feature_median = df_copy.loc[:, feature].median()\n",
    "    df.loc[na_indexes, feature] = feature_median\n",
    "    return df\n",
    "\n",
    "def missing_numerical_features_controller(df, features, na):\n",
    "    \"\"\"this function just calls the :func:`handle_missing_numeric_feature` for each given feature\"\"\"\n",
    "    for feature in features:\n",
    "        df = handle_missing_numeric_feature(df, feature, na)\n",
    "    return df"
   ]
  },
  {
   "cell_type": "code",
   "execution_count": 7,
   "metadata": {},
   "outputs": [],
   "source": [
    "def one_hot_encoding(df, na, feature_name, new_encoding = False):\n",
    "    \"\"\"performs a complete one-hit encoding on the specified feature of the dataframe\n",
    "    adds a the prefix '_' to each unique encoding class\n",
    "    set `new_encoding` = True if the data are not in the same order as before!!! otherwise it returns a false encoding\n",
    "    separates automatically all missing values as it's own category named: feature_name+'_'+na\n",
    "    returns: \n",
    "    -encoded data-frame\n",
    "    -categories of the variable as an array\n",
    "    \"\"\"\n",
    "    enc = OneHotEncoder()\n",
    "    df = df.copy()\n",
    "    delimiter = feature_name + '_'\n",
    "    na_delimiter = '_' + na\n",
    "    enc_dir = './enc'\n",
    "    cat_dir = './cat'\n",
    "    enc_path = enc_dir+'/'+feature_name+'.npz'\n",
    "    cat_path = cat_dir+'/categories.pkl'\n",
    "    encoding = False\n",
    "    sparse_matrix = None\n",
    "    category = None\n",
    "    all_cat = {}\n",
    "    \n",
    "    #creates directories if not exists\n",
    "    if not os.path.exists(enc_dir):\n",
    "        encoding = True\n",
    "        os.makedirs(enc_dir)\n",
    "    if not os.path.exists(cat_dir):\n",
    "        encoding = True\n",
    "        os.makedirs(cat_dir)\n",
    "        \n",
    "    #gets the dictionary with all categories\n",
    "    try:\n",
    "        all_cat = load_obj(cat_path)\n",
    "    except:\n",
    "        pass\n",
    "    \n",
    "    #deletes files if they exists and new_encoding is True\n",
    "    if new_encoding:\n",
    "        encoding = True\n",
    "        try:\n",
    "            os.remove(enc_path)\n",
    "        except:\n",
    "            pass\n",
    "        try:\n",
    "            del all_cat[feature_name]\n",
    "        except:\n",
    "            pass\n",
    "    \n",
    "    #tries to get sparse matrix & head if new_encoding == False\n",
    "    if not encoding:\n",
    "        try:\n",
    "            sparse_matrix = scipy.sparse.load_npz(enc_path)\n",
    "            #check if size of sparse_matrix matches size of the df\n",
    "            if sparse_matrix.shape[0] != df.shape[0]:\n",
    "                sparse_matrix = None\n",
    "            category = all_cat.get(feature_name)\n",
    "        except:\n",
    "            pass\n",
    "    \n",
    "    #perform actual encoding if necessary\n",
    "    if (sparse_matrix is None) or (category is None):\n",
    "        if df.loc[:, [feature_name]].isnull().values.any():\n",
    "            df.loc[:, feature_name] = df.loc[:, feature_name].replace(np.nan, feature_name + na_delimiter, regex = True)\n",
    "        selected_frame = delimiter + df.loc[:, feature_name].astype(str).to_frame()\n",
    "        sparse_matrix = enc.fit_transform(selected_frame)\n",
    "        category = enc.categories_[0]\n",
    "        all_cat[feature_name] = category\n",
    "        scipy.sparse.save_npz(enc_path, sparse_matrix)\n",
    "        save_obj(all_cat, cat_path)\n",
    "    \n",
    "    #add encoded matrix to the df\n",
    "    encoded_array = sparse_matrix.toarray()\n",
    "    df_enc = pd.DataFrame(data = encoded_array, columns = category)\n",
    "    category_sorted = np.sort(category)\n",
    "    df_enc = df_enc[category_sorted]\n",
    "    df = df.drop(columns = [feature_name])\n",
    "    df[category_sorted] = df_enc\n",
    "    return df, category_sorted\n",
    "\n",
    "def save_obj(obj, path):\n",
    "    if len(path) < 5:\n",
    "        path = path + '.pkl'\n",
    "    elif path[-4:] != '.pkl':\n",
    "        path = path + '.pkl'\n",
    "    with open(path, 'wb') as f:\n",
    "        pickle.dump(obj, f, pickle.HIGHEST_PROTOCOL)\n",
    "\n",
    "def load_obj(path):\n",
    "    if len(path) < 5:\n",
    "        path = path + '.pkl'\n",
    "    elif path[-4:] != '.pkl':\n",
    "        path = path + '.pkl'\n",
    "    with open(path, 'rb') as f:\n",
    "        return pickle.load(f)\n",
    "\n",
    "def get_prepared_df(df, na, target_variable = None, categorical_features = [], numerical_features = [], new_encoding = False):\n",
    "    \"\"\"returns the data frame with the specified encoded features and the corresponding generated categories\n",
    "    set `new_encoding` = True if the data are not in the same order as before!!! otherwise it returns a false encoding\"\"\"\n",
    "    df_selected = df.loc[:, (numerical_features + categorical_features)]\n",
    "    categories = {}\n",
    "    for feature in categorical_features:\n",
    "        df_selected, categories[feature] = one_hot_encoding(df_selected, na, feature, new_encoding)\n",
    "    if target_variable is not None:\n",
    "        df_selected[target_variable] = df.loc[:, target_variable]\n",
    "    return df_selected, categories\n",
    "\n",
    "def normalize_df(df, features):\n",
    "    \"\"\"normalizes the given numerical sample to mean 0 and std 1\"\"\"\n",
    "    df[features] = (df.loc[:, features] - df.loc[:, features].mean(axis = 0) / df.loc[:, features].std(axis = 0))\n",
    "    return df\n",
    "\n",
    "def mape(y_true, y_pred): \n",
    "    \"\"\"calculates the mean absolute percentage error (MAPE) of a continuous predicted variable\"\"\"\n",
    "    return (np.mean(np.abs((y_true - y_pred) / y_true)) * 100).values[0]"
   ]
  },
  {
   "cell_type": "markdown",
   "metadata": {},
   "source": [
    "## Linear Regression"
   ]
  },
  {
   "cell_type": "code",
   "execution_count": 8,
   "metadata": {},
   "outputs": [],
   "source": [
    "def launch_regression(X_train, y_train, X_test, y_test, plot_result = False, math_op = None):\n",
    "    lr = LinearRegression()\n",
    "    if math_op == 'log10':\n",
    "        y_train = np.log10(y_train)\n",
    "    elif math_op == 'sqrt':\n",
    "        y_train = np.sqrt(y_train)\n",
    "        \n",
    "    lr.fit(X_train, y_train)\n",
    "    score = lr.score(X_train, y_train)\n",
    "    \n",
    "    predicted = lr.predict(X_test)\n",
    "    if math_op == 'log10':\n",
    "        predicted = 10**predicted\n",
    "    elif math_op == 'sqrt':\n",
    "        predicted = predicted**2\n",
    "        \n",
    "    mape_lr = mape(y_test, predicted)\n",
    "    residuals = y_test - predicted\n",
    "    intercept = lr.intercept_\n",
    "    \n",
    "    if plot_result:\n",
    "        print('r^2 train: ', score)\n",
    "        print('MAPE:', mape_lr[price], '%')\n",
    "        fig, ax = plt.subplots(figsize=(15,8))\n",
    "        _ = ax.plot(predicted, residuals, 'o', markeredgecolor='black', color='blue', alpha=0.1)\n",
    "        _ = ax.grid(True)\n",
    "        _ = ax.set_title('Tukey-Ascombe Plot')\n",
    "        _ = ax.set_ylabel('$r$')\n",
    "        _ = ax.set_xlabel('$\\hat y$')\n",
    "        \n",
    "    return mape_lr, score\n",
    " "
   ]
  },
  {
   "cell_type": "code",
   "execution_count": 24,
   "metadata": {},
   "outputs": [],
   "source": [
    "def val_lr_perf(df, cat_f, compl_num_f, miss_num_f, targ_var, na, bottom_up = True, new_enc = False, plot_result = False):\n",
    "    \"\"\"greedy bottom up (default) or top down model performance validation\"\"\"\n",
    "    num_f = compl_num_f + miss_num_f\n",
    "    remaining_f = compl_num_f + miss_num_f + cat_f\n",
    "    ranking = [] #[feature_name, mape, r2]\n",
    "    df_targ_var = df.loc[:, targ_var]\n",
    "    first_loop = True\n",
    "    \n",
    "    #error vars\n",
    "    mape_error = 999999\n",
    "    r2_error = 0\n",
    "    mape_error_best = mape_error\n",
    "    r2_error_best = r2_error\n",
    "    \n",
    "    #enc vars\n",
    "    enc_features = []\n",
    "    enc_loop = None\n",
    "    \n",
    "    if bottom_up:\n",
    "        df_current = pd.DataFrame(columns = [])\n",
    "        cat = {}\n",
    "    else:\n",
    "        df_current, cat = get_prepared_df(df, na, None, cat_f, num_f, new_encoding = new_enc)\n",
    "        df_current = missing_numerical_features_controller(df_current, miss_num_f, na)\n",
    "    \n",
    "    while ((len(remaining_f) > 0 and bottom_up) or (len(remaining_f) > 1 and (not bottom_up))):\n",
    "        df_current_best = df_current.copy()\n",
    "        best_feature = None\n",
    "        current_error_package = {}\n",
    "        df_package = {}\n",
    "        for feature in remaining_f:\n",
    "            df_current_trial = df_current.copy()  \n",
    "            if bottom_up:\n",
    "                df_current_trial[feature] = df.loc[:, feature]\n",
    "                if feature in cat_f:\n",
    "                    if (feature not in enc_features) and (new_enc):\n",
    "                        enc_features.append(feature)\n",
    "                        enc_loop = True\n",
    "                    elif (new_enc):\n",
    "                        enc_loop = False\n",
    "                    df_current_trial, cat_trial = one_hot_encoding(df_current_trial, na, feature, new_encoding = enc_loop)\n",
    "                elif feature in miss_num_f:\n",
    "                    df_current_trial = handle_missing_numeric_feature(df_current_trial, feature, na)\n",
    "                elif feature in compl_num_f:\n",
    "                    pass #nothing toDo here\n",
    "            elif not first_loop:\n",
    "                #top_down\n",
    "                if feature in cat_f:\n",
    "                    df_current_trial = df_current_trial.drop(columns = cat[feature])\n",
    "                elif feature in miss_num_f:\n",
    "                    df_current_trial = df_current_trial.drop(columns = [feature, feature+'_'+na])\n",
    "                elif feature in compl_num_f:\n",
    "                    df_current_trial = df_current_trial.drop(columns = [feature])\n",
    "                    \n",
    "            X_train, X_test, y_train, y_test = train_test_split(df_current_trial, df_targ_var, test_size = 0.25, random_state = 42)\n",
    "            mape_lr, score = launch_regression(X_train, y_train, X_test, y_test, plot_result = False, math_op = None)\n",
    "            current_error_package[feature] = [mape_lr, score]\n",
    "            df_package[feature] = df_current_trial\n",
    "            \n",
    "            #check if the feature increased performance\n",
    "            if mape_lr < mape_error_best:\n",
    "                mape_error_best = mape_lr\n",
    "                r2_error_best = score #should get better too while mape gets better\n",
    "                best_feature = feature\n",
    "                df_current_best = df_current_trial\n",
    "                \n",
    "            #adjust vars for first loop top_down\n",
    "            if  (not bottom_up) and first_loop:\n",
    "                first_loop = False\n",
    "                mape_error_best = mape_lr\n",
    "                r2_error_best = score\n",
    "                best_feature = 'all_features'\n",
    "                break\n",
    "                \n",
    "        #if performance has not imporved (important for top_down)\n",
    "        if best_feature is None:\n",
    "            mape_errors_only = {}\n",
    "            for feature in current_error_package.keys(): #could be implemented more efficiently???\n",
    "                mape_errors_only[feature] = current_error_package.get(feature)[0]\n",
    "            best_feature = min(mape_errors_only, key = mape_errors_only.get)\n",
    "            mape_error_best = current_error_package.get(best_feature)[0]\n",
    "            r2_error_best = current_error_package.get(best_feature)[1]\n",
    "            df_current_best = df_package.get(best_feature)\n",
    "        \n",
    "        #update loop\n",
    "        ranking.append([best_feature, mape_error_best, r2_error_best])\n",
    "        df_current = df_current_best\n",
    "        mape_error = mape_error_best\n",
    "        r2_error = r2_error_best\n",
    "        if best_feature in remaining_f: #prevents trying to remove `best_feature` = 'all_features'\n",
    "            remaining_f.remove(best_feature)\n",
    "            \n",
    "    ranking = pd.DataFrame(ranking, columns = ['feature', 'mape', 'r2'])\n",
    "    if plot_result:\n",
    "        if bottom_up:\n",
    "            title = 'bottom_up performance'\n",
    "        else:\n",
    "            title = 'top_down performance'\n",
    "        name_values = ranking.loc[:, 'feature']\n",
    "        mape_values = ranking.loc[:, 'mape']\n",
    "        r2_values = ranking.loc[:, 'r2']\n",
    "        #MAPE figure\n",
    "        plt.figure(figsize = (15,6))\n",
    "        plt.title(title + ' MAPE')\n",
    "        plt.ylabel('MAPE')\n",
    "        plt.plot(name_values, mape_values)\n",
    "        plt.show()\n",
    "        #R2 figure\n",
    "        plt.figure(figsize = (15,6))\n",
    "        plt.title(title + 'R$^2$')\n",
    "        plt.ylabel('R$^2$')\n",
    "        plt.plot(name_values, r2_values)\n",
    "        plt.show()\n",
    "        \n",
    "    return ranking\n",
    "            "
   ]
  },
  {
   "cell_type": "code",
   "execution_count": 25,
   "metadata": {
    "scrolled": true
   },
   "outputs": [
    {
     "name": "stderr",
     "output_type": "stream",
     "text": [
      "C:\\Users\\Lukas\\Anaconda3\\lib\\site-packages\\pandas\\core\\ops.py:1649: FutureWarning: elementwise comparison failed; returning scalar instead, but in the future will perform elementwise comparison\n",
      "  result = method(y)\n",
      "C:\\Users\\Lukas\\Anaconda3\\lib\\site-packages\\pandas\\core\\ops.py:1649: FutureWarning: elementwise comparison failed; returning scalar instead, but in the future will perform elementwise comparison\n",
      "  result = method(y)\n",
      "C:\\Users\\Lukas\\Anaconda3\\lib\\site-packages\\pandas\\core\\ops.py:1649: FutureWarning: elementwise comparison failed; returning scalar instead, but in the future will perform elementwise comparison\n",
      "  result = method(y)\n"
     ]
    },
    {
     "data": {
      "image/png": "[encoded data removed]",
      "text/plain": [
       "<Figure size 1080x432 with 1 Axes>"
      ]
     },
     "metadata": {
      "needs_background": "light"
     },
     "output_type": "display_data"
    },
    {
     "data": {
      "image/png": "[encoded data removed]",
      "text/plain": [
       "<Figure size 1080x432 with 1 Axes>"
      ]
     },
     "metadata": {
      "needs_background": "light"
     },
     "output_type": "display_data"
    },
    {
     "name": "stderr",
     "output_type": "stream",
     "text": [
      "C:\\Users\\Lukas\\Anaconda3\\lib\\site-packages\\pandas\\core\\ops.py:1649: FutureWarning: elementwise comparison failed; returning scalar instead, but in the future will perform elementwise comparison\n",
      "  result = method(y)\n"
     ]
    },
    {
     "data": {
      "image/png": "[encoded data removed]",
      "text/plain": [
       "<Figure size 1080x432 with 1 Axes>"
      ]
     },
     "metadata": {
      "needs_background": "light"
     },
     "output_type": "display_data"
    },
    {
     "data": {
      "image/png": "[encoded data removed]",
      "text/plain": [
       "<Figure size 1080x432 with 1 Axes>"
      ]
     },
     "metadata": {
      "needs_background": "light"
     },
     "output_type": "display_data"
    }
   ],
   "source": [
    "def init(df, na, missing_values_included = False):\n",
    "    #initialization and declaration of the variables\n",
    "    #obj_type', 'rooms', 'surface', 'zip_code_2_digits','zip_code_3_digits', 'canton', \n",
    "    #'year_built', 'year_renovated','distance_to_station', 'price_square_metres', 'price'\n",
    "    cat_f = [obj_type, canton, zip_code_2_digits]\n",
    "    compl_num_f = [surface, rooms, distance_to_station]\n",
    "    miss_num_f = [year_renovated, year_built]\n",
    "    targ_var = [price]\n",
    "    selected_features = cat_f + compl_num_f + miss_num_f + targ_var\n",
    "    \n",
    "    if missing_values_included:\n",
    "        df = add_nearest_rooms_by_surface(df)\n",
    "        df = add_surface_mean_by_nearest_rooms(df)\n",
    "    else:\n",
    "        df = df.loc[:, selected_features]\n",
    "        if year_renovated in df.columns:\n",
    "            year_renovated_frame = df.loc[:, [year_renovated]]\n",
    "            df = df.drop(columns = [year_renovated])\n",
    "            df = df.dropna()\n",
    "            df[year_renovated] = year_renovated_frame.iloc[df.index, :]\n",
    "        else:\n",
    "            df = df.dropna()\n",
    "        df = df.reset_index(drop = True)\n",
    "\n",
    "    result_bottom_up =  val_lr_perf(df, cat_f, compl_num_f, miss_num_f, targ_var, na, \n",
    "                             bottom_up = True, new_enc = True, plot_result = True)\n",
    "    result_top_down = val_lr_perf(df, cat_f, compl_num_f, miss_num_f, targ_var, na, \n",
    "                             bottom_up = False, new_enc = True, plot_result = True)\n",
    "    \n",
    "    return result_bottom_up, result_top_down\n",
    "#t1 = datetime.now()   \n",
    "result_bottom_up, result_top_down = init(df, na, False)\n",
    "#t2 = datetime.now()\n",
    "#print(t2 - t1)"
   ]
  },
  {
   "cell_type": "code",
   "execution_count": 33,
   "metadata": {},
   "outputs": [],
   "source": [
    "bottom_up_top_score_index = result_bottom_up.loc[:, 'mape'].idxmin(axis = 1)\n",
    "bottom_top_down_score_index = result_top_down.loc[:, 'mape'].idxmin(axis = 1)"
   ]
  },
  {
   "cell_type": "code",
   "execution_count": 38,
   "metadata": {},
   "outputs": [
    {
     "data": {
      "text/plain": [
       "mape     13.2313\n",
       "r2      0.694077\n",
       "Name: 6, dtype: object"
      ]
     },
     "execution_count": 38,
     "metadata": {},
     "output_type": "execute_result"
    }
   ],
   "source": [
    "result_bottom_up.iloc[bottom_up_top_score_index, 1:]"
   ]
  },
  {
   "cell_type": "code",
   "execution_count": 37,
   "metadata": {},
   "outputs": [
    {
     "data": {
      "text/plain": [
       "mape     13.2313\n",
       "r2      0.694077\n",
       "Name: 1, dtype: object"
      ]
     },
     "execution_count": 37,
     "metadata": {},
     "output_type": "execute_result"
    }
   ],
   "source": [
    "result_top_down.iloc[bottom_top_down_score_index, 1:]"
   ]
  }
 ],
 "metadata": {
  "kernelspec": {
   "display_name": "Python 3",
   "language": "python",
   "name": "python3"
  },
  "language_info": {
   "codemirror_mode": {
    "name": "ipython",
    "version": 3
   },
   "file_extension": ".py",
   "mimetype": "text/x-python",
   "name": "python",
   "nbconvert_exporter": "python",
   "pygments_lexer": "ipython3",
   "version": "3.7.3"
  }
 },
 "nbformat": 4,
 "nbformat_minor": 2
}
