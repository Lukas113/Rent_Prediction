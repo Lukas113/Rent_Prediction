{
 "cells": [
  {
   "cell_type": "markdown",
   "metadata": {},
   "source": [
    "# Linear Regression"
   ]
  },
  {
   "cell_type": "code",
   "execution_count": null,
   "metadata": {},
   "outputs": [],
   "source": []
  },
  {
   "cell_type": "code",
   "execution_count": 1,
   "metadata": {},
   "outputs": [],
   "source": [
    "import pandas as pd\n",
    "import numpy as np\n",
    "import matplotlib.pyplot as plt\n",
    "from sklearn.linear_model import LinearRegression\n",
    "from scipy.spatial.distance import cdist\n",
    "from sklearn.preprocessing import OneHotEncoder\n",
    "from pandas.api.types import is_numeric_dtype"
   ]
  },
  {
   "cell_type": "code",
   "execution_count": 2,
   "metadata": {},
   "outputs": [
    {
     "name": "stderr",
     "output_type": "stream",
     "text": [
      "C:\\Users\\Lukas\\Anaconda3\\lib\\site-packages\\pandas\\core\\ops.py:1649: FutureWarning: elementwise comparison failed; returning scalar instead, but in the future will perform elementwise comparison\n",
      "  result = method(y)\n"
     ]
    }
   ],
   "source": [
    "na = '<NA>'\n",
    "\n",
    "df = pd.read_csv(r'../data_file/selected_data.csv')\n",
    "df = df[df.loc[:,] != na].drop(columns = [df.columns[0]])\n",
    "\n",
    "obj_type, rooms, surface, zip_code_2_digits, zip_code_3_digits, canton, year_built, year_renovated, distance_to_station, price_square_metres, price = df.columns\n",
    "\n",
    "target_frame = df.loc[:, [price]]"
   ]
  },
  {
   "cell_type": "markdown",
   "metadata": {},
   "source": [
    "#### Helper Functions"
   ]
  },
  {
   "cell_type": "code",
   "execution_count": 3,
   "metadata": {},
   "outputs": [],
   "source": [
    "def frame_to_numeric(frame):\n",
    "    \"\"\"transforms every value of a data frame to numeric if possible\"\"\"\n",
    "    for column in frame.columns:\n",
    "        try:\n",
    "            frame.loc[:, column] = pd.to_numeric(frame.loc[:, column])\n",
    "        except:\n",
    "            continue #nothing toDo here\n",
    "    return frame\n",
    "\n",
    "df = frame_to_numeric(df)"
   ]
  },
  {
   "cell_type": "code",
   "execution_count": 4,
   "metadata": {},
   "outputs": [],
   "source": [
    "def rooms_surface_mean(df):\n",
    "    df = frame_to_numeric(df.loc[:, [rooms, surface]].dropna())\n",
    "    return df.groupby(rooms).mean()\n",
    "\n",
    "def add_rooms(row, df_rooms_mean):\n",
    "    return df_rooms_mean.loc[row[rooms]]\n",
    "\n",
    "def add_nearest_rooms_by_surface(df):\n",
    "    \"\"\"completes the dataframe rooms by the nearest neighbour based on the surface mean distance\n",
    "    and the surface of the missing rooms objects\"\"\"\n",
    "    df = df.reset_index(drop = True)\n",
    "    df_rooms_mean = rooms_surface_mean(df)\n",
    "    df_rooms_missing = df[df.loc[:, rooms].isna()].loc[:, [surface]]\n",
    "    dist = cdist(df_rooms_missing, df_rooms_mean) #computes the distance between each pair of surface\n",
    "    idx = np.argsort(dist) #gets sorted index (most left = lowest distance index)\n",
    "    rooms_class = idx[:,0] #gets the room class (index)\n",
    "    df_rooms_missing.loc[:, rooms] = rooms_class\n",
    "    df_rooms_mean = df_rooms_mean.reset_index()\n",
    "    df_rooms_missing.loc[:, rooms] = df_rooms_missing.apply(lambda row: add_rooms(row, df_rooms_mean), axis = 1)\n",
    "    df.loc[df_rooms_missing.index, rooms] = df_rooms_missing.loc[:, rooms] #appends the missing rooms to the real data-frame\n",
    "    return df\n",
    "\n",
    "df = add_nearest_rooms_by_surface(df)"
   ]
  },
  {
   "cell_type": "code",
   "execution_count": 5,
   "metadata": {},
   "outputs": [],
   "source": [
    "def add_surface(row, df_rooms_mean):\n",
    "    return df_rooms_mean.loc[row[surface]]\n",
    "\n",
    "def add_surface_mean_by_nearest_rooms(df):\n",
    "    \"\"\"completes the dataframe surface by the nearest neighbour surface mean based on the room distance\n",
    "    of the missing surface objects\"\"\"\n",
    "    df = df.reset_index(drop = True)\n",
    "    df_rooms_mean = rooms_surface_mean(df).reset_index()\n",
    "    df_surface_missing = df[df.loc[:, surface].isna()].loc[:, [rooms]]\n",
    "    dist = cdist(df_surface_missing, df_rooms_mean.loc[:, [rooms]]) #computes the distance between each pair of rooms\n",
    "    idx = np.argsort(dist) #gets sorted index (most left = lowest distance index)\n",
    "    surface_class = idx[:,0] #gets the surface class (index)\n",
    "    df_surface_missing.loc[:, surface] = surface_class\n",
    "    df_surface_missing.loc[:, surface] = df_surface_missing.apply(lambda row: add_surface(row, df_rooms_mean), axis = 1)\n",
    "    df.loc[df_surface_missing.index, surface] = df_surface_missing.loc[:, surface]\n",
    "    return df\n",
    "\n",
    "\n",
    "df = add_surface_mean_by_nearest_rooms(df)"
   ]
  },
  {
   "cell_type": "code",
   "execution_count": 6,
   "metadata": {},
   "outputs": [],
   "source": [
    "def one_hot_encoding(df, feature_name):\n",
    "    \"\"\"performs a complete one-hit encoding on the specified feature of the dataframe\n",
    "    adds a the prefix '_' to each unique encoding class if the input is numeric\n",
    "    separates automatically all missing values as it's own category with: feature_name+'_'+na\n",
    "    returns: \n",
    "    -encoded data-frame\n",
    "    -categories of the variable as an array\n",
    "    \"\"\"\n",
    "    enc = OneHotEncoder()\n",
    "    df = df.copy()\n",
    "    \n",
    "    if df.loc[:, [feature_name]].isnull().values.any():\n",
    "        df.loc[:, feature_name] = df.loc[:, feature_name].replace(np.nan, feature_name+'_'+na, regex = True)\n",
    "    \n",
    "    if is_numeric_dtype(df.loc[:, feature_name]):\n",
    "        selected_frame = '_' + df.loc[:, feature_name].astype(str).to_frame()\n",
    "    else:\n",
    "        selected_frame = df.loc[:, feature_name].to_frame()\n",
    "\n",
    "    encoded_array = enc.fit_transform(selected_frame).toarray()\n",
    "    df_enc = pd.DataFrame()\n",
    "    categories = enc.categories_[0]\n",
    "    for i in range(encoded_array.shape[1]):\n",
    "        object_name = categories[i]\n",
    "        df_enc[object_name] = encoded_array[:, i]\n",
    "    categories_sorted = np.sort(categories)\n",
    "    df_enc = df_enc[categories_sorted]\n",
    "    df = df.drop(columns = [feature_name])\n",
    "    df[categories_sorted] = df_enc\n",
    "    return df, categories_sorted\n",
    "\n",
    "def one_hot_encoding_controller(df, features):\n",
    "    \"\"\"encodes the given features with the one-hit encoding method in the given features order\n",
    "    returns: \n",
    "    -complete encoded data-frame\n",
    "    -dictionary of the encoded categories to provide easy access\"\"\"\n",
    "    categories = {}\n",
    "    for feature in features:\n",
    "        df, categories[feature] = one_hot_encoding(df, feature)\n",
    "    return df, categories"
   ]
  },
  {
   "cell_type": "code",
   "execution_count": 13,
   "metadata": {},
   "outputs": [],
   "source": [
    "def get_selected_df(df, categories = {}, features = []):\n",
    "    \"\"\"get the selected df based on the given column names of the non-one-hot encoded frame\"\"\"\n",
    "    columns = []\n",
    "    for feature in features:\n",
    "        if feature in categories:\n",
    "            columns.extend(categories[feature])\n",
    "        else:\n",
    "            columns.append(feature)\n",
    "    return df.loc[:, columns]\n",
    "\n",
    "def get_prepared_df(df, encoding_features = [], other_features = []):\n",
    "    df_encoded, categories = one_hot_encoding_controller(df, features = encoding_features)\n",
    "    all_features = other_features + encoding_features\n",
    "    df_selected = get_selected_df(df_encoded, categories, features = all_features)\n",
    "    return df_selected, categories\n",
    "    \n",
    "df_prepared, categories = get_prepared_df(df, \n",
    "                                          encoding_features = [canton, zip_code_2_digits, zip_code_3_digits], \n",
    "                                          other_features = [surface, rooms])"
   ]
  },
  {
   "cell_type": "markdown",
   "metadata": {},
   "source": [
    "## Linear Regression"
   ]
  },
  {
   "cell_type": "code",
   "execution_count": 14,
   "metadata": {},
   "outputs": [
    {
     "data": {
      "text/plain": [
       "0.6905754688752932"
      ]
     },
     "execution_count": 14,
     "metadata": {},
     "output_type": "execute_result"
    }
   ],
   "source": [
    "def launch_regression(x, y):\n",
    "    lr = LinearRegression()\n",
    "    lr.fit(x, y)\n",
    "    return lr.score(x, y)\n",
    "    \n",
    "launch_regression(x = df_prepared, y = target_frame)"
   ]
  },
  {
   "cell_type": "code",
   "execution_count": null,
   "metadata": {},
   "outputs": [],
   "source": []
  },
  {
   "cell_type": "code",
   "execution_count": null,
   "metadata": {},
   "outputs": [],
   "source": []
  }
 ],
 "metadata": {
  "kernelspec": {
   "display_name": "Python 3",
   "language": "python",
   "name": "python3"
  },
  "language_info": {
   "codemirror_mode": {
    "name": "ipython",
    "version": 3
   },
   "file_extension": ".py",
   "mimetype": "text/x-python",
   "name": "python",
   "nbconvert_exporter": "python",
   "pygments_lexer": "ipython3",
   "version": "3.7.3"
  }
 },
 "nbformat": 4,
 "nbformat_minor": 2
}
