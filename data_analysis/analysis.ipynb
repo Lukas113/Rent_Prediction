{
 "cells": [
  {
   "cell_type": "markdown",
   "metadata": {},
   "source": [
    "# Data Analysis Immo_Rent"
   ]
  },
  {
   "cell_type": "markdown",
   "metadata": {},
   "source": [
    "This data analysis intends to be completely independant of magic numbers and variable names. For this reason, the columns of the data set must be in the right order: immoId, objType, cityName, zipCode, regionId, canton, street, rooms, floor, surface, yearBuilt, yearRenovated, lon, lat, distanceToStation, netPrice, extraPrice, price"
   ]
  },
  {
   "cell_type": "code",
   "execution_count": 23,
   "metadata": {},
   "outputs": [],
   "source": [
    "import numpy as np\n",
    "import pandas as pd\n",
    "import seaborn as sns\n",
    "import matplotlib.pyplot as plt\n",
    "from scipy import stats\n",
    "import sys\n",
    "\n",
    "df = pd.read_csv('..\\\\data_file\\\\object_file - modified_v2.csv')\n",
    "\n",
    "#removes the semicolon of the last attributes if exists\n",
    "def remove_semicolon(row):\n",
    "    return row[df.columns[df.shape[1]-1]][:-1]\n",
    "if df.columns[df.shape[1]-1][-1] == ';': \n",
    "    df.rename(columns = {df.columns[df.shape[1]-1] : df.columns[df.shape[1]-1][:len(df.columns[df.shape[1]-1])-1]}, inplace = True)\n",
    "    df[df.columns[df.shape[1]-1]] = df.apply(lambda row: remove_semicolon(row), axis=1)\n",
    "\n",
    "\n",
    "df_size = df.shape[0]\n",
    "percentage = '{0:.0%}'\n",
    "count = 'count'\n",
    "float_regex = '\\d+(\\.)?(\\d)*'\n",
    "na = '<NA>'"
   ]
  },
  {
   "cell_type": "markdown",
   "metadata": {},
   "source": [
    "## 1 Missing Values"
   ]
  },
  {
   "cell_type": "markdown",
   "metadata": {},
   "source": [
    "### Missing Values Dependency"
   ]
  },
  {
   "cell_type": "markdown",
   "metadata": {},
   "source": [
    "First we have to get an imagination of where and why I have missing values. In addition, I want to know if the density of missing values has any connection to other missing values.\n",
    "\n",
    "In order to get an overview of these missing values, I created a heatmap of each attribute in the data-set."
   ]
  },
  {
   "cell_type": "code",
   "execution_count": 24,
   "metadata": {},
   "outputs": [],
   "source": [
    "def create_missing_values_table():\n",
    "    \"\"\"creates a full table of each row and column of the dataframe and checks, how many missing values are in the comparison\"\"\"\n",
    "    missing_values_table = pd.DataFrame(0, index = df.columns, columns=df.columns)\n",
    "    for column in df.columns:\n",
    "        for row in df.columns:\n",
    "            sub_frame = df[[column, row]]\n",
    "            try: #compares if both: columns with the values of 'column' and 'row' have missing values, even compared with itself\n",
    "                num_missing = sub_frame[(sub_frame[column] == na) & (sub_frame[row] == na)].iloc[:,0].value_counts()[na]\n",
    "            except KeyError: #if there is a KeyError, that means that no missing values are found\n",
    "                num_missing = 0\n",
    "            missing_values_table.loc[column, row] = num_missing\n",
    "    return missing_values_table\n",
    "\n",
    "\n",
    "missing_values_table = create_missing_values_table()"
   ]
  },
  {
   "cell_type": "code",
   "execution_count": 25,
   "metadata": {},
   "outputs": [
    {
     "data": {
      "text/plain": [
       "<matplotlib.axes._subplots.AxesSubplot at 0x245bb581eb8>"
      ]
     },
     "execution_count": 25,
     "metadata": {},
     "output_type": "execute_result"
    },
    {
     "data": {
      "image/png": "[encoded data removed]",
      "text/plain": [
       "<Figure size 720x576 with 2 Axes>"
      ]
     },
     "metadata": {
      "needs_background": "light"
     },
     "output_type": "display_data"
    }
   ],
   "source": [
    "plt.figure(figsize=(10, 8))\n",
    "sns.heatmap(missing_values_table, cmap=\"magma\")"
   ]
  },
  {
   "cell_type": "markdown",
   "metadata": {},
   "source": [
    "### Absolute and Relative Missing Values"
   ]
  },
  {
   "cell_type": "code",
   "execution_count": 46,
   "metadata": {},
   "outputs": [
    {
     "name": "stdout",
     "output_type": "stream",
     "text": [
      "                    <NA> relative\n",
      "immoId                 0       0%\n",
      "objType                0       0%\n",
      "cityName               0       0%\n",
      "zipCode                0       0%\n",
      "regionId               0       0%\n",
      "canton                17       0%\n",
      "street              4326      11%\n",
      "rooms               1382       4%\n",
      "floor              11139      29%\n",
      "surface             7892      21%\n",
      "yearBuilt          23855      63%\n",
      "yearRenovated      33277      87%\n",
      "lon                    0       0%\n",
      "lat                    0       0%\n",
      "distanceToStation      0       0%\n",
      "netPrice            9020      24%\n",
      "extraPrice         10428      27%\n",
      "price                  0       0%\n"
     ]
    }
   ],
   "source": [
    "rel = 'relative'\n",
    "missing_count = pd.DataFrame(0, index = df.columns, columns = [na, rel])\n",
    "for column in df.columns:\n",
    "    sub_frame = df[column]\n",
    "    try:\n",
    "        count_na = sub_frame.value_counts()[na]\n",
    "        missing_count.loc[column, na] = count_na\n",
    "        missing_count.loc[column, rel] = percentage.format(count_na / df_size)\n",
    "    except KeyError:\n",
    "        missing_count.loc[column, na] = 0\n",
    "        missing_count.loc[column, rel] = percentage.format(0)\n",
    "        \n",
    "print(missing_count)"
   ]
  },
  {
   "cell_type": "markdown",
   "metadata": {},
   "source": [
    "### Missing Values per Object Distribution / Data Transformation"
   ]
  },
  {
   "cell_type": "code",
   "execution_count": 27,
   "metadata": {},
   "outputs": [
    {
     "name": "stdout",
     "output_type": "stream",
     "text": [
      "   immoId  objType  cityName  zipCode  regionId  canton  street  rooms  floor  \\\n",
      "1       0        0         0        0         0       0      13      7    173   \n",
      "2       0        0         0        0         0       1     251     28   1182   \n",
      "3       0        0         0        0         0       4     659     91   1258   \n",
      "4       0        0         0        0         0       0     591     76   1108   \n",
      "5       0        0         0        0         0       0     669     55   3682   \n",
      "6       0        0         0        0         0       6    1292    475   2645   \n",
      "7       0        0         0        0         0       4     638    437    878   \n",
      "8       0        0         0        0         0       1     212    212    212   \n",
      "9       0        0         0        0         0       1       1      1      1   \n",
      "\n",
      "   surface  yearBuilt  yearRenovated  lon  lat  distanceToStation  netPrice  \\\n",
      "1       94       1239           9115    0    0                  0         0   \n",
      "2     1115       7591           8775    0    0                  0        79   \n",
      "3     3521       5001           5253    0    0                  0       349   \n",
      "4      816       1844           1950    0    0                  0       660   \n",
      "5      443       4401           4400    0    0                  0      4168   \n",
      "6     1011       2687           2692    0    0                  0      2672   \n",
      "7      680        879            879    0    0                  0       879   \n",
      "8      211        212            212    0    0                  0       212   \n",
      "9        1          1              1    0    0                  0         1   \n",
      "\n",
      "   extraPrice  price  \n",
      "1          23      0  \n",
      "2         286      0  \n",
      "3         748      0  \n",
      "4        1191      0  \n",
      "5        4392      0  \n",
      "6        2696      0  \n",
      "7         879      0  \n",
      "8         212      0  \n",
      "9           1      0  \n"
     ]
    }
   ],
   "source": [
    "def count_na_in_row(row):\n",
    "    row_count = 0\n",
    "    for value in row:\n",
    "        if value == na:\n",
    "            row_count += 1\n",
    "    return row_count\n",
    "\n",
    "miss = 'missing_class'\n",
    "miss_range = None\n",
    "def create_missing_values_set(): #about 10 sec\n",
    "    df_missing = df.copy() #copy to not alter the original data-set\n",
    "    df_missing[miss] = df_missing.apply(lambda row: count_na_in_row(row), axis=1) #creates missing_class (num_of_missing_values)\n",
    "    df_missing_grouped = df_missing.groupby(miss)\n",
    "    global miss_range\n",
    "    miss_range = range(1, df_missing[miss].max()+1)\n",
    "    missing_set = pd.DataFrame(index = miss_range)\n",
    "    for attribute in df.columns:\n",
    "        values = []\n",
    "        for i in miss_range:\n",
    "            try: #tries to get the counted grouped value <NA> of the specific attribute\n",
    "                values.append(df_missing_grouped[attribute].value_counts()[i, na])\n",
    "            except KeyError:\n",
    "                values.append(0)\n",
    "        missing_set[attribute] = values\n",
    "    return missing_set\n",
    "\n",
    "missing_set = create_missing_values_set()\n",
    "print(missing_set)"
   ]
  },
  {
   "cell_type": "markdown",
   "metadata": {},
   "source": [
    "### Missing Values Distribution of each Data Object"
   ]
  },
  {
   "cell_type": "markdown",
   "metadata": {},
   "source": [
    "This plot describes how the missing values are distributed in data objects, where 1, 2, 3.. (missing_class) values are missing. The y-axis describes the relative density of the missing values per missing class. It does not provide any information about how many data objects in each missing_class are missing. If one is interested in this kind of information, take a look at the next plot. In my opinion, it was not appropriate to show this in the same plot because it is difficult to get an overview of the distribution of missing_classes with a relative low amound of data objects. "
   ]
  },
  {
   "cell_type": "code",
   "execution_count": 60,
   "metadata": {},
   "outputs": [
    {
     "data": {
      "text/plain": [
       "<matplotlib.legend.Legend at 0x245bf53e438>"
      ]
     },
     "execution_count": 60,
     "metadata": {},
     "output_type": "execute_result"
    },
    {
     "data": {
      "image/png": "[encoded data removed]",
      "text/plain": [
       "<Figure size 1152x864 with 1 Axes>"
      ]
     },
     "metadata": {
      "needs_background": "light"
     },
     "output_type": "display_data"
    }
   ],
   "source": [
    "missing_set = missing_set.loc[:, (missing_set != 0).any(axis=0)] #drops all full zero columns\n",
    "missing_set = missing_set.div(missing_set.sum(1), axis=0)\n",
    "missing_set.plot(kind='bar', stacked=True, figsize=(16, 12), legend=False)\n",
    "plt.legend(loc='center left', bbox_to_anchor=(1.0, 0.9))"
   ]
  },
  {
   "cell_type": "markdown",
   "metadata": {},
   "source": [
    "Here one can see the distribution of the number of missing value objects."
   ]
  },
  {
   "cell_type": "code",
   "execution_count": 48,
   "metadata": {},
   "outputs": [
    {
     "name": "stdout",
     "output_type": "stream",
     "text": [
      "objects with no missing values:  1915.0 \n",
      "\n",
      "                 count\n",
      "missing_class         \n",
      "1              10664.0\n",
      "2               9654.0\n",
      "3               5628.0\n",
      "4               2059.0\n",
      "5               4442.0\n",
      "6               2696.0\n",
      "7                879.0\n",
      "8                212.0\n",
      "9                  1.0\n"
     ]
    },
    {
     "data": {
      "image/png": "[encoded data removed]",
      "text/plain": [
       "<Figure size 864x720 with 1 Axes>"
      ]
     },
     "metadata": {
      "needs_background": "light"
     },
     "output_type": "display_data"
    }
   ],
   "source": [
    "missing_set_objects = pd.DataFrame(index = miss_range)\n",
    "missing_set_objects[miss] = miss_range\n",
    "missing_set_objects[count] = missing_set.sum(axis = 1)\n",
    "for missing_class in miss_range: #adapt count values to count objects\n",
    "    missing_set_objects.loc[missing_class, count] = missing_set_objects.loc[missing_class, count] / missing_class\n",
    "\n",
    "missing_set_objects = missing_set_objects.set_index(miss)\n",
    "\n",
    "missing_set_objects.plot(kind='bar', figsize=(12, 10), width = 0.7, color = 'skyblue')\n",
    "print('objects with no missing values: ', df_size - missing_set_objects[count].sum(axis = 0), '\\n')\n",
    "print(missing_set_objects)"
   ]
  },
  {
   "cell_type": "markdown",
   "metadata": {},
   "source": [
    "## 2 Dimensonal Analysis"
   ]
  },
  {
   "cell_type": "markdown",
   "metadata": {},
   "source": [
    "### Object Type"
   ]
  },
  {
   "cell_type": "code",
   "execution_count": 63,
   "metadata": {},
   "outputs": [
    {
     "name": "stdout",
     "output_type": "stream",
     "text": [
      "flat     36826\n",
      "house     1324\n",
      "Name: objType, dtype: int64\n"
     ]
    },
    {
     "data": {
      "text/plain": [
       "<matplotlib.axes._subplots.AxesSubplot at 0x245bf6b05c0>"
      ]
     },
     "execution_count": 63,
     "metadata": {},
     "output_type": "execute_result"
    },
    {
     "data": {
      "image/png": "[encoded data removed]",
      "text/plain": [
       "<Figure size 432x288 with 1 Axes>"
      ]
     },
     "metadata": {
      "needs_background": "light"
     },
     "output_type": "display_data"
    }
   ],
   "source": [
    "object_types = df[df.columns[1]]\n",
    "print(object_types.value_counts())\n",
    "sns.countplot(x = df.columns[1], data = df)"
   ]
  },
  {
   "cell_type": "markdown",
   "metadata": {},
   "source": [
    "### City and Zip-Code"
   ]
  },
  {
   "cell_type": "code",
   "execution_count": 49,
   "metadata": {},
   "outputs": [
    {
     "name": "stdout",
     "output_type": "stream",
     "text": [
      "   zipCode  count\n",
      "0     2300    529\n",
      "1     9000    399\n",
      "2     1700    382\n",
      "3     1950    359\n",
      "4     6900    345\n",
      "5     2000    307\n"
     ]
    },
    {
     "data": {
      "image/png": "[encoded data removed]",
      "text/plain": [
       "<Figure size 432x288 with 1 Axes>"
      ]
     },
     "metadata": {
      "needs_background": "light"
     },
     "output_type": "display_data"
    }
   ],
   "source": [
    "plz_count = df.zipCode.value_counts().rename_axis(df.columns[3]).reset_index(name = count)\n",
    "sns.distplot(plz_count[count], bins = 50, norm_hist = False, kde = False)\n",
    "print(plz_count[0:6])"
   ]
  },
  {
   "cell_type": "markdown",
   "metadata": {},
   "source": [
    "### Canton"
   ]
  },
  {
   "cell_type": "code",
   "execution_count": 32,
   "metadata": {},
   "outputs": [
    {
     "data": {
      "text/plain": [
       "<matplotlib.axes._subplots.AxesSubplot at 0x245bb0da588>"
      ]
     },
     "execution_count": 32,
     "metadata": {},
     "output_type": "execute_result"
    },
    {
     "data": {
      "image/png": "[encoded data removed]",
      "text/plain": [
       "<Figure size 1152x432 with 1 Axes>"
      ]
     },
     "metadata": {
      "needs_background": "light"
     },
     "output_type": "display_data"
    }
   ],
   "source": [
    "plt.figure(figsize=(16, 6))\n",
    "sns.countplot(x = df.columns[5], data = df, order = df[df.columns[5]].value_counts().index)"
   ]
  },
  {
   "cell_type": "markdown",
   "metadata": {},
   "source": [
    "### Street"
   ]
  },
  {
   "cell_type": "code",
   "execution_count": 33,
   "metadata": {},
   "outputs": [
    {
     "name": "stdout",
     "output_type": "stream",
     "text": [
      "NAs:  4326  ( 11% )\n"
     ]
    }
   ],
   "source": [
    "street_na = df.street.value_counts()\n",
    "print('NAs: ', street_na[na], ' (', percentage.format(street_na[na] / df_size), ')')"
   ]
  },
  {
   "cell_type": "markdown",
   "metadata": {},
   "source": [
    "### Rooms"
   ]
  },
  {
   "cell_type": "code",
   "execution_count": 34,
   "metadata": {},
   "outputs": [
    {
     "name": "stdout",
     "output_type": "stream",
     "text": [
      "    rooms  count\n",
      "0     3.5  10369\n",
      "1     4.5   8762\n",
      "2     2.5   4393\n",
      "3     3.0   3619\n",
      "4     4.0   1858\n",
      "5     5.5   1824\n",
      "6     2.0   1818\n",
      "7     1.0   1530\n",
      "8    <NA>   1382\n",
      "9     1.5    926\n",
      "10    5.0    670\n",
      "11    6.5    346\n",
      "12    6.0    285\n",
      "13    7.0    136\n",
      "14    7.5     93\n",
      "15    8.0     38\n",
      "16    8.5     27\n",
      "17    9.0     25\n",
      "18   10.0     24\n",
      "19    9.5      6\n",
      "20   10.5      5\n",
      "21   11.0      4\n",
      "22   14.0      3\n",
      "23   12.0      3\n",
      "24   11.5      2\n",
      "25  235.0      1\n",
      "26    3.4      1 \n",
      "\n",
      "NAs:  4%\n"
     ]
    },
    {
     "data": {
      "text/plain": [
       "<matplotlib.axes._subplots.AxesSubplot at 0x245be2495f8>"
      ]
     },
     "execution_count": 34,
     "metadata": {},
     "output_type": "execute_result"
    },
    {
     "data": {
      "image/png": "[encoded data removed]",
      "text/plain": [
       "<Figure size 1152x432 with 1 Axes>"
      ]
     },
     "metadata": {
      "needs_background": "light"
     },
     "output_type": "display_data"
    }
   ],
   "source": [
    "plt.figure(figsize=(16, 6))\n",
    "df_rooms = df.rooms.value_counts().rename_axis(df.columns[7]).reset_index(name = count)\n",
    "#df_rooms = df_rooms[df_rooms.rooms != na]\n",
    "na_rooms = df_rooms[df_rooms[df.columns[7]] == na][count].values[0]\n",
    "print(df_rooms, \"\\n\\nNAs: \", percentage.format(na_rooms / df_size))\n",
    "sns.countplot(x = df.columns[7], data = df, order = df[df.columns[7]].value_counts().index)"
   ]
  },
  {
   "cell_type": "markdown",
   "metadata": {},
   "source": [
    "### Floor"
   ]
  },
  {
   "cell_type": "code",
   "execution_count": null,
   "metadata": {},
   "outputs": [],
   "source": []
  },
  {
   "cell_type": "markdown",
   "metadata": {},
   "source": [
    "### Surface"
   ]
  },
  {
   "cell_type": "code",
   "execution_count": null,
   "metadata": {},
   "outputs": [],
   "source": []
  },
  {
   "cell_type": "markdown",
   "metadata": {},
   "source": [
    "### Year Built and Renovated"
   ]
  },
  {
   "cell_type": "code",
   "execution_count": null,
   "metadata": {},
   "outputs": [],
   "source": []
  },
  {
   "cell_type": "markdown",
   "metadata": {},
   "source": [
    "### Longitude and Latitude"
   ]
  },
  {
   "cell_type": "code",
   "execution_count": null,
   "metadata": {},
   "outputs": [],
   "source": []
  },
  {
   "cell_type": "markdown",
   "metadata": {},
   "source": [
    "### Distance to Trainstation"
   ]
  },
  {
   "cell_type": "code",
   "execution_count": null,
   "metadata": {},
   "outputs": [],
   "source": []
  },
  {
   "cell_type": "markdown",
   "metadata": {},
   "source": [
    "### Price"
   ]
  },
  {
   "cell_type": "code",
   "execution_count": null,
   "metadata": {},
   "outputs": [],
   "source": []
  },
  {
   "cell_type": "code",
   "execution_count": null,
   "metadata": {},
   "outputs": [],
   "source": []
  }
 ],
 "metadata": {
  "kernelspec": {
   "display_name": "Python 3",
   "language": "python",
   "name": "python3"
  },
  "language_info": {
   "codemirror_mode": {
    "name": "ipython",
    "version": 3
   },
   "file_extension": ".py",
   "mimetype": "text/x-python",
   "name": "python",
   "nbconvert_exporter": "python",
   "pygments_lexer": "ipython3",
   "version": "3.7.3"
  }
 },
 "nbformat": 4,
 "nbformat_minor": 2
}
